{
 "cells": [
  {
   "cell_type": "code",
   "execution_count": 1,
   "metadata": {
    "collapsed": true
   },
   "outputs": [],
   "source": [
    "from random import choice\n",
    "from numpy import array, dot, random"
   ]
  },
  {
   "cell_type": "markdown",
   "metadata": {},
   "source": [
    "Create the step function "
   ]
  },
  {
   "cell_type": "code",
   "execution_count": 3,
   "metadata": {
    "collapsed": true
   },
   "outputs": [],
   "source": [
    "unit_step = lambda x: 0 if x < 0 else 1"
   ]
  },
  {
   "cell_type": "markdown",
   "metadata": {},
   "source": [
    "Next we need to map the possible input to the expected output. The first two entries of the NumPy array in each tuple are the two input values. The second element of the tuple is the expected result. And the third entry of the array is a \"dummy\" input (also called the bias) which is needed to move the threshold (also known as the decision boundary) up or down as needed by the step function. Its value is always 1, so that its influence on the result can be controlled by its weight."
   ]
  },
  {
   "cell_type": "code",
   "execution_count": 8,
   "metadata": {
    "collapsed": true
   },
   "outputs": [],
   "source": [
    "train_data = [(array([0,0,0]),0),\n",
    "              (array([0,1,1]),1),\n",
    "              (array([1,0,1]),1),\n",
    "              (array([1,1,1]),1)]"
   ]
  },
  {
   "cell_type": "markdown",
   "metadata": {},
   "source": [
    "As we can see, this training sequence maps exactly to the definition of the OR function\n",
    "\n",
    "\n",
    "Next we'll choose three random numbers between 0 and 1 as the initial weights:"
   ]
  },
  {
   "cell_type": "code",
   "execution_count": 12,
   "metadata": {
    "collapsed": true
   },
   "outputs": [],
   "source": [
    "w = random.rand(3)"
   ]
  },
  {
   "cell_type": "markdown",
   "metadata": {},
   "source": [
    "Now on to some variable initializations. The errors list is only used to store the error values so that they can be plotted later on. The eta variable controls the learning rate. And n specifies the number of learning iterations."
   ]
  },
  {
   "cell_type": "code",
   "execution_count": 10,
   "metadata": {
    "collapsed": true
   },
   "outputs": [],
   "source": [
    "errors = []\n",
    "eta = 0.2\n",
    "n = 100"
   ]
  },
  {
   "cell_type": "markdown",
   "metadata": {},
   "source": [
    "In order to find the ideal values for the weights w, we try to reduce the error magnitude to zero. In this simple case n = 100 iterations are enough; for a bigger and possibly \"noisier\" set of input data much larger numbers should be used.\n",
    "\n",
    "First we get a random input set from the training data. Then we calculate the dot product (sometimes also called scalar product or inner product) of the input and weight vectors. This is our (scalar) result, which we can compare to the expected value. If the expected value is bigger, we need to increase the weights, if it's smaller, we need to decrease them. This correction factor is calculated in the last line, where the error is multiplied with the learning rate (eta) and the input vector (x). It is then added to the weights vector, in order to improve the results in the next iteration."
   ]
  },
  {
   "cell_type": "code",
   "execution_count": 13,
   "metadata": {
    "collapsed": false
   },
   "outputs": [],
   "source": [
    "for i in xrange(n):\n",
    "    x, excepted = choice(train_data)\n",
    "    result = dot(w, x)\n",
    "    error = excepted - unit_step(result)\n",
    "    errors.append(error)\n",
    "    w += eta * error * x"
   ]
  },
  {
   "cell_type": "code",
   "execution_count": 16,
   "metadata": {
    "collapsed": false
   },
   "outputs": [
    {
     "name": "stdout",
     "output_type": "stream",
     "text": [
      "[0 0]: 0.0 -> 1\n",
      "[0 1]: 0.543301874357 -> 1\n",
      "[1 0]: 0.175778510161 -> 1\n",
      "[1 1]: 0.555095828844 -> 1\n"
     ]
    }
   ],
   "source": [
    "for x, _ in train_data:\n",
    "    result = dot(x, w)\n",
    "    print(\"{}: {} -> {}\".format(x[:2], result, unit_step(result)))"
   ]
  },
  {
   "cell_type": "code",
   "execution_count": 18,
   "metadata": {
    "collapsed": false
   },
   "outputs": [
    {
     "data": {
      "text/plain": [
       "[<matplotlib.lines.Line2D at 0x92e6d68>]"
      ]
     },
     "execution_count": 18,
     "metadata": {},
     "output_type": "execute_result"
    },
    {
     "data": {
      "image/png": "[encoded data removed]",
      "text/plain": [
       "<matplotlib.figure.Figure at 0x9134b00>"
      ]
     },
     "metadata": {},
     "output_type": "display_data"
    }
   ],
   "source": [
    "from pylab import plot, ylim\n",
    "%matplotlib inline\n",
    "ylim([-1,1])\n",
    "plot(errors)"
   ]
  },
  {
   "cell_type": "markdown",
   "metadata": {},
   "source": [
    "It's easy to see that the errors stabilize around the 60th iteration. If you doubt that the errors are definitely eliminated"
   ]
  },
  {
   "cell_type": "markdown",
   "metadata": {},
   "source": [
    "# Entire Code"
   ]
  },
  {
   "cell_type": "code",
   "execution_count": null,
   "metadata": {
    "collapsed": true
   },
   "outputs": [],
   "source": [
    "from random import choice\n",
    "from numpy import array, dot, random\n",
    "\n",
    "unit_step = lambda x: 0 if x < 0 else 1\n",
    "\n",
    "training_data = [\n",
    "    (array([0,0,1]), 0),\n",
    "    (array([0,1,1]), 1),\n",
    "    (array([1,0,1]), 1),\n",
    "    (array([1,1,1]), 1),\n",
    "]\n",
    "\n",
    "w = random.rand(3)\n",
    "errors = []\n",
    "eta = 0.2\n",
    "n = 100\n",
    "\n",
    "for i in xrange(n):\n",
    "    x, expected = choice(training_data)\n",
    "    result = dot(w, x)\n",
    "    error = expected - unit_step(result)\n",
    "    errors.append(error)\n",
    "    w += eta * error * x\n",
    "\n",
    "for x, _ in training_data:\n",
    "    result = dot(x, w)\n",
    "    print(\"{}: {} -> {}\".format(x[:2], result, unit_step(result)))"
   ]
  },
  {
   "cell_type": "code",
   "execution_count": 19,
   "metadata": {
    "collapsed": true
   },
   "outputs": [],
   "source": [
    "# Create some training data\n",
    "training_data_or = [\n",
    "    (array([0, 0, 1]), 0),\n",
    "    (array([0, 1, 1]), 1),\n",
    "    (array([1, 0, 1]), 1),\n",
    "    (array([1, 1, 1]), 1),\n",
    "]\n",
    "\n",
    "training_data_and = [\n",
    "    (array([0, 0, 1]), 0),\n",
    "    (array([0, 1, 1]), 0),\n",
    "    (array([1, 0, 1]), 0),\n",
    "    (array([1, 1, 1]), 1),\n",
    "]\n",
    "\n",
    "training_data_not = [\n",
    "    (array([0]), 1),\n",
    "    (array([1]), 0),\n",
    "]\n"
   ]
  },
  {
   "cell_type": "code",
   "execution_count": 21,
   "metadata": {
    "collapsed": true
   },
   "outputs": [],
   "source": [
    "def run_perceptron(training_data):\n",
    "    errors = []\n",
    "    bias = 0.2\n",
    "    steps = 100\n",
    "    # Make the randomized vector length dynamic\n",
    "    vector_length = len(training_data[0][0])\n",
    "    # Get a random 3-vector between 0 and 1\n",
    "    # e.g. [0.03249, 0.12452, 0.49032]\n",
    "    # This is used as the starting point\n",
    "    rand_vec3 = random.rand(vector_length)\n",
    "    print('\\nStarting seed vector: {}'.format(rand_vec3))\n",
    "\n",
    "    for _ in xrange(steps):\n",
    "        vec3, expected = choice(training_data)\n",
    "        # Get the dot product of the randomized vector and the training vector\n",
    "        result = dot(rand_vec3, vec3)\n",
    "        # Get the offset of the expected and the unit step value\n",
    "        offset = expected - unit_step(result)\n",
    "        errors.append(offset)\n",
    "        # Update the starting vector\n",
    "        rand_vec3 += bias * offset * vec3\n",
    "\n",
    "    # Run it for visualization of the progress\n",
    "    for vec3, expected in training_data:\n",
    "        result = dot(vec3, rand_vec3)\n",
    "        print(\"{}: {} = {} (expected {})\".format(\n",
    "            vec3[:2], result, unit_step(result), expected))\n"
   ]
  },
  {
   "cell_type": "code",
   "execution_count": 22,
   "metadata": {
    "collapsed": false
   },
   "outputs": [
    {
     "name": "stdout",
     "output_type": "stream",
     "text": [
      "\n",
      "Starting seed vector: [ 0.53432601  0.77342983  0.77906163]\n",
      "[0 0]: -0.0209383737306 = 0 (expected 0)\n",
      "[0 1]: 0.752491458603 = 1 (expected 1)\n",
      "[1 0]: 0.513387638859 = 1 (expected 1)\n",
      "[1 1]: 1.28681747119 = 1 (expected 1)\n",
      "\n",
      "Starting seed vector: [ 0.86605527  0.94884696  0.43782296]\n",
      "[0 0]: -0.562177039631 = 0 (expected 0)\n",
      "[0 1]: -0.0133300830841 = 0 (expected 0)\n",
      "[1 0]: -0.0961217705629 = 0 (expected 0)\n",
      "[1 1]: 0.452725185984 = 1 (expected 1)\n",
      "\n",
      "Starting seed vector: [ 0.47829733]\n",
      "[0]: -0.0 = 1 (expected 1)\n",
      "[1]: -0.121702670168 = 0 (expected 0)\n"
     ]
    }
   ],
   "source": [
    "run_perceptron(training_data_or)\n",
    "run_perceptron(training_data_and)\n",
    "# This one trains much faster, as the number of cases is halved.\n",
    "run_perceptron(training_data_not)"
   ]
  }
 ],
 "metadata": {
  "kernelspec": {
   "display_name": "Python 2",
   "language": "python",
   "name": "python2"
  },
  "language_info": {
   "codemirror_mode": {
    "name": "ipython",
    "version": 2
   },
   "file_extension": ".py",
   "mimetype": "text/x-python",
   "name": "python",
   "nbconvert_exporter": "python",
   "pygments_lexer": "ipython2",
   "version": "2.7.11"
  }
 },
 "nbformat": 4,
 "nbformat_minor": 0
}
