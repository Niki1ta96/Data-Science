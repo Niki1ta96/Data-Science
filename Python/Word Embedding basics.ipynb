{
 "cells": [
  {
   "cell_type": "markdown",
   "metadata": {},
   "source": [
    "## Count Vectorization"
   ]
  },
  {
   "cell_type": "code",
   "execution_count": 1,
   "metadata": {},
   "outputs": [
    {
     "name": "stdout",
     "output_type": "stream",
     "text": [
      "[[2 0 2]\n",
      " [2 2 0]\n",
      " [2 4 0]\n",
      " [0 4 2]\n",
      " [1 4 1]]\n"
     ]
    }
   ],
   "source": [
    "from sklearn.feature_extraction.text import CountVectorizer\n",
    "corpus = [\"Apple Orange Orange Apple\",\n",
    "          \"Apple Banana Apple Banana\",\n",
    "          \"Banana Apple Banana Banana Banana Apple\",\n",
    "          \"Banana Orange Banana Banana Orange Banana\",\n",
    "          \"Banana Apple Banana Banana Orange Banana\"]\n",
    "\n",
    "vectorizer = CountVectorizer()\n",
    "vectorizer.fit(corpus)\n",
    "corpus_vec = vectorizer.transform(corpus).toarray()\n",
    "print(corpus_vec)"
   ]
  },
  {
   "cell_type": "markdown",
   "metadata": {},
   "source": [
    "## TF-IDF"
   ]
  },
  {
   "cell_type": "code",
   "execution_count": 2,
   "metadata": {},
   "outputs": [
    {
     "name": "stdout",
     "output_type": "stream",
     "text": [
      "[[ 0.64374446  0.          0.76524053]\n",
      " [ 0.70710678  0.70710678  0.        ]\n",
      " [ 0.4472136   0.89442719  0.        ]\n",
      " [ 0.          0.85962194  0.51093065]\n",
      " [ 0.23304334  0.93217336  0.2770264 ]]\n"
     ]
    }
   ],
   "source": [
    "from sklearn.feature_extraction.text import TfidfVectorizer\n",
    "vectorizer = TfidfVectorizer()\n",
    "vectorizer.fit(corpus)\n",
    "corpus_vec = vectorizer.transform(corpus).toarray()\n",
    "print(corpus_vec)"
   ]
  },
  {
   "cell_type": "markdown",
   "metadata": {},
   "source": [
    "## co - occurrence matrix  "
   ]
  },
  {
   "cell_type": "code",
   "execution_count": 3,
   "metadata": {},
   "outputs": [
    {
     "name": "stdout",
     "output_type": "stream",
     "text": [
      "labels:\n",
      "[[0 0 1 1 0]\n",
      " [0 0 1 1 1]\n",
      " [0 1 1 1 0]\n",
      " [1 1 0 0 0]\n",
      " [0 1 1 0 0]\n",
      " [0 1 0 0 0]\n",
      " [0 1 0 1 1]\n",
      " [0 1 0 0 1]\n",
      " [1 0 0 1 0]\n",
      " [1 0 1 1 1]]\n",
      "\n",
      "cooccurrence_matrix:\n",
      "[[3 1 1 2 1]\n",
      " [1 6 2 2 2]\n",
      " [1 2 5 4 2]\n",
      " [2 2 4 6 3]\n",
      " [1 2 2 3 4]]\n"
     ]
    }
   ],
   "source": [
    "import numpy as np\n",
    "np.random.seed(3) # for reproducibility\n",
    "\n",
    "# Generate data: 5 labels, 10 examples, binary.\n",
    "label_headers = 'Alice Bob Carol Dave Eve'.split(' ')\n",
    "label_data = np.random.randint(0,2,(10,5)) # binary here but could be any integer.\n",
    "print('labels:\\n{0}'.format(label_data))\n",
    "\n",
    "# Compute cooccurrence matrix \n",
    "cooccurrence_matrix = np.dot(label_data.transpose(),label_data)\n",
    "print('\\ncooccurrence_matrix:\\n{0}'.format(cooccurrence_matrix)) "
   ]
  },
  {
   "cell_type": "markdown",
   "metadata": {},
   "source": [
    "## co occurrence matrix in percentage"
   ]
  },
  {
   "cell_type": "code",
   "execution_count": 4,
   "metadata": {},
   "outputs": [
    {
     "name": "stdout",
     "output_type": "stream",
     "text": [
      "\n",
      "cooccurrence_matrix_percentage:\n",
      "[[ 1.          0.33333333  0.33333333  0.66666667  0.33333333]\n",
      " [ 0.16666667  1.          0.33333333  0.33333333  0.33333333]\n",
      " [ 0.2         0.4         1.          0.8         0.4       ]\n",
      " [ 0.33333333  0.33333333  0.66666667  1.          0.5       ]\n",
      " [ 0.25        0.5         0.5         0.75        1.        ]]\n"
     ]
    }
   ],
   "source": [
    "cooccurrence_matrix_diagonal = np.diagonal(cooccurrence_matrix)\n",
    "with np.errstate(divide='ignore', invalid='ignore'):\n",
    "    cooccurrence_matrix_percentage = np.nan_to_num(np.true_divide(cooccurrence_matrix, cooccurrence_matrix_diagonal[:, None]))\n",
    "print('\\ncooccurrence_matrix_percentage:\\n{0}'.format(cooccurrence_matrix_percentage))\n"
   ]
  },
  {
   "cell_type": "markdown",
   "metadata": {},
   "source": [
    "## With a heatmap using matplotlib "
   ]
  },
  {
   "cell_type": "code",
   "execution_count": 10,
   "metadata": {},
   "outputs": [
    {
     "name": "stdout",
     "output_type": "stream",
     "text": [
      "labels:\n",
      "[[0 0 1 1 0]\n",
      " [0 0 1 1 1]\n",
      " [0 1 1 1 0]\n",
      " [1 1 0 0 0]\n",
      " [0 1 1 0 0]\n",
      " [0 1 0 0 0]\n",
      " [0 1 0 1 1]\n",
      " [0 1 0 0 1]\n",
      " [1 0 0 1 0]\n",
      " [1 0 1 1 1]]\n",
      "\n",
      "cooccurrence_matrix:\n",
      "[[3 1 1 2 1]\n",
      " [1 6 2 2 2]\n",
      " [1 2 5 4 2]\n",
      " [2 2 4 6 3]\n",
      " [1 2 2 3 4]]\n",
      "\n",
      "cooccurrence_matrix_percentage:\n",
      "[[ 1.          0.33333333  0.33333333  0.66666667  0.33333333]\n",
      " [ 0.16666667  1.          0.33333333  0.33333333  0.33333333]\n",
      " [ 0.2         0.4         1.          0.8         0.4       ]\n",
      " [ 0.33333333  0.33333333  0.66666667  1.          0.5       ]\n",
      " [ 0.25        0.5         0.5         0.75        1.        ]]\n",
      "\n",
      "label_header_with_count: ['Alice (3)', 'Bob (6)', 'Carol (5)', 'Dave (6)', 'Eve (4)']\n"
     ]
    }
   ],
   "source": [
    "\n",
    "import numpy as np\n",
    "np.random.seed(3) # for reproducibility\n",
    "\n",
    "import matplotlib.pyplot as plt\n",
    "\n",
    "def show_values(pc, fmt=\"%.2f\", **kw):\n",
    "    '''\n",
    "    Heatmap with text in each cell with matplotlib's pyplot\n",
    "    Source: http://stackoverflow.com/a/25074150/395857 \n",
    "    By HYRY\n",
    "    '''\n",
    "    from itertools import izip\n",
    "    pc.update_scalarmappable()\n",
    "    ax = pc.get_axes()\n",
    "    for p, color, value in izip(pc.get_paths(), pc.get_facecolors(), pc.get_array()):\n",
    "        x, y = p.vertices[:-2, :].mean(0)\n",
    "        if np.all(color[:3] > 0.5):\n",
    "            color = (0.0, 0.0, 0.0)\n",
    "        else:\n",
    "            color = (1.0, 1.0, 1.0)\n",
    "        ax.text(x, y, fmt % value, ha=\"center\", va=\"center\", color=color, **kw)\n",
    "\n",
    "def cm2inch(*tupl):\n",
    "    '''\n",
    "    Specify figure size in centimeter in matplotlib\n",
    "    Source: http://stackoverflow.com/a/22787457/395857\n",
    "    By gns-ank\n",
    "    '''\n",
    "    inch = 2.54\n",
    "    if type(tupl[0]) == tuple:\n",
    "        return tuple(i/inch for i in tupl[0])\n",
    "    else:\n",
    "        return tuple(i/inch for i in tupl)\n",
    "\n",
    "def heatmap(AUC, title, xlabel, ylabel, xticklabels, yticklabels):\n",
    "    '''\n",
    "    Inspired by:\n",
    "    - http://stackoverflow.com/a/16124677/395857 \n",
    "    - http://stackoverflow.com/a/25074150/395857\n",
    "    '''\n",
    "\n",
    "    # Plot it out\n",
    "    fig, ax = plt.subplots()    \n",
    "    c = ax.pcolor(AUC, edgecolors='k', linestyle= 'dashed', linewidths=0.2, cmap='RdBu', vmin=0.0, vmax=1.0)\n",
    "\n",
    "    # put the major ticks at the middle of each cell\n",
    "    ax.set_yticks(np.arange(AUC.shape[0]) + 0.5, minor=False)\n",
    "    ax.set_xticks(np.arange(AUC.shape[1]) + 0.5, minor=False)\n",
    "\n",
    "    # set tick labels\n",
    "    #ax.set_xticklabels(np.arange(1,AUC.shape[1]+1), minor=False)\n",
    "    ax.set_xticklabels(xticklabels, minor=False)\n",
    "    ax.set_yticklabels(yticklabels, minor=False)\n",
    "\n",
    "    # set title and x/y labels\n",
    "    plt.title(title)\n",
    "    plt.xlabel(xlabel)\n",
    "    plt.ylabel(ylabel)      \n",
    "\n",
    "    # Remove last blank column\n",
    "    plt.xlim( (0, AUC.shape[1]) )\n",
    "\n",
    "    # Turn off all the ticks\n",
    "    ax = plt.gca()    \n",
    "    for t in ax.xaxis.get_major_ticks():\n",
    "        t.tick1On = False\n",
    "        t.tick2On = False\n",
    "    for t in ax.yaxis.get_major_ticks():\n",
    "        t.tick1On = False\n",
    "        t.tick2On = False\n",
    "\n",
    "    # Add color bar\n",
    "    plt.colorbar(c)\n",
    "\n",
    "    # Add text in each cell \n",
    "    show_values(c)\n",
    "\n",
    "    # Proper orientation (origin at the top left instead of bottom left)\n",
    "    ax.invert_yaxis()\n",
    "    ax.xaxis.tick_top()\n",
    "\n",
    "    # resize \n",
    "    fig = plt.gcf()\n",
    "    fig.set_size_inches(cm2inch(40, 20))\n",
    "\n",
    "\n",
    "\n",
    "def main():\n",
    "\n",
    "    # Generate data: 5 labels, 10 examples, binary.\n",
    "    label_headers = 'Alice Bob Carol Dave Eve'.split(' ')\n",
    "    label_data = np.random.randint(0,2,(10,5)) # binary here but could be any integer.\n",
    "    print('labels:\\n{0}'.format(label_data))\n",
    "\n",
    "    # Compute cooccurrence matrix \n",
    "    cooccurrence_matrix = np.dot(label_data.transpose(),label_data)\n",
    "    print('\\ncooccurrence_matrix:\\n{0}'.format(cooccurrence_matrix)) \n",
    "\n",
    "    # Compute cooccurrence matrix in percentage\n",
    "    # FYI: http://stackoverflow.com/questions/19602187/numpy-divide-each-row-by-a-vector-element\n",
    "    #      http://stackoverflow.com/questions/26248654/numpy-return-0-with-divide-by-zero/32106804#32106804\n",
    "    cooccurrence_matrix_diagonal = np.diagonal(cooccurrence_matrix)\n",
    "    with np.errstate(divide='ignore', invalid='ignore'):\n",
    "        cooccurrence_matrix_percentage = np.nan_to_num(np.true_divide(cooccurrence_matrix, cooccurrence_matrix_diagonal[:, None]))\n",
    "    print('\\ncooccurrence_matrix_percentage:\\n{0}'.format(cooccurrence_matrix_percentage))\n",
    "\n",
    "    # Add count in labels\n",
    "    label_header_with_count = [ '{0} ({1})'.format(label_header, cooccurrence_matrix_diagonal[label_number]) for label_number, label_header in enumerate(label_headers)]  \n",
    "    print('\\nlabel_header_with_count: {0}'.format(label_header_with_count))\n",
    "    # Plotting\n",
    "    x_axis_size = cooccurrence_matrix_percentage.shape[0]\n",
    "    y_axis_size = cooccurrence_matrix_percentage.shape[1]\n",
    "    title = \"Co-occurrence matrix\\n\"\n",
    "    xlabel= ''#\"Labels\"\n",
    "    ylabel= ''#\"Labels\"\n",
    "    xticklabels = label_header_with_count\n",
    "    yticklabels = label_header_with_count\n",
    "    heatmap(cooccurrence_matrix_percentage, title, xlabel, ylabel, xticklabels, yticklabels)\n",
    "    plt.savefig('image_output.png', dpi=300, format='png', bbox_inches='tight') # use format='svg' or 'pdf' for vectorial pictures\n",
    "    #plt.show()\n",
    "\n",
    "if __name__ == \"__main__\":\n",
    "    main()"
   ]
  },
  {
   "attachments": {
    "image.png": {
     "image/png": "[encoded data removed]"
    }
   },
   "cell_type": "markdown",
   "metadata": {},
   "source": [
    "![image.png](attachment:image.png)"
   ]
  }
 ],
 "metadata": {
  "kernelspec": {
   "display_name": "Python 3",
   "language": "python",
   "name": "python3"
  },
  "language_info": {
   "codemirror_mode": {
    "name": "ipython",
    "version": 3
   },
   "file_extension": ".py",
   "mimetype": "text/x-python",
   "name": "python",
   "nbconvert_exporter": "python",
   "pygments_lexer": "ipython3",
   "version": "3.6.1"
  }
 },
 "nbformat": 4,
 "nbformat_minor": 2
}
